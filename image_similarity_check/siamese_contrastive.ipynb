{
  "cells": [
    {
      "cell_type": "markdown",
      "metadata": {
        "id": "_LTpw_d9G4up"
      },
      "source": [
        "# Image similarity estimation using a Siamese Network with a contrastive loss\n",
        "\n",
        "**Author:** Mehdi<br>\n",
        "**Date created:** 2021/05/06<br>\n",
        "**Last modified:** 2022/09/10<br>\n",
        "**Description:** Similarity learning using a siamese network trained with a contrastive loss."
      ]
    },
    {
      "cell_type": "markdown",
      "metadata": {
        "id": "lPAPsNRRG4uq"
      },
      "source": [
        "## Introduction\n",
        "\n",
        "[Siamese Networks](https://en.wikipedia.org/wiki/Siamese_neural_network)\n",
        "are neural networks which share weights between two or more sister networks,\n",
        "each producing embedding vectors of its respective inputs.\n",
        "\n",
        "In supervised similarity learning, the networks are then trained to maximize the\n",
        "contrast (distance) between embeddings of inputs of different classes, while minimizing the distance between\n",
        "embeddings of similar classes, resulting in embedding spaces that reflect\n",
        "the class segmentation of the training inputs."
      ]
    },
    {
      "cell_type": "markdown",
      "metadata": {
        "id": "DRcISgAQG4ur"
      },
      "source": [
        "## Setup"
      ]
    },
    {
      "cell_type": "code",
      "execution_count": 7,
      "metadata": {
        "id": "V2H_f7rmG4ur"
      },
      "outputs": [],
      "source": [
        "import random\n",
        "import numpy as np\n",
        "import tensorflow as tf\n",
        "from tensorflow import keras\n",
        "from tensorflow.keras import layers\n",
        "import matplotlib.pyplot as plt"
      ]
    },
    {
      "cell_type": "markdown",
      "metadata": {
        "id": "pgs2z3uEG4ur"
      },
      "source": [
        "## Hyperparameters"
      ]
    },
    {
      "cell_type": "code",
      "execution_count": 8,
      "metadata": {
        "id": "ik5qJZzdG4ur"
      },
      "outputs": [],
      "source": [
        "epochs = 10\n",
        "batch_size = 16\n",
        "margin = 1  # Margin for contrastive loss."
      ]
    },
    {
      "cell_type": "markdown",
      "metadata": {
        "id": "6WJR6F_5G4ur"
      },
      "source": [
        "## Load the MNIST dataset"
      ]
    },
    {
      "cell_type": "code",
      "execution_count": 9,
      "metadata": {
        "id": "s4y0ewpEG4us"
      },
      "outputs": [],
      "source": [
        "(x_train_val, y_train_val), (x_test, y_test) = keras.datasets.mnist.load_data()\n",
        "\n",
        "# Change the data type to a floating point format\n",
        "x_train_val = x_train_val.astype(\"float32\")\n",
        "x_test = x_test.astype(\"float32\")\n"
      ]
    },
    {
      "cell_type": "markdown",
      "metadata": {
        "id": "B_oeUXZtG4us"
      },
      "source": [
        "## Define training and validation sets"
      ]
    },
    {
      "cell_type": "code",
      "execution_count": 10,
      "metadata": {
        "id": "9U8R6QBRG4us"
      },
      "outputs": [],
      "source": [
        "# Keep 50% of train_val  in validation set\n",
        "x_train, x_val = x_train_val[:30000], x_train_val[30000:]\n",
        "y_train, y_val = y_train_val[:30000], y_train_val[30000:]\n",
        "del x_train_val, y_train_val\n"
      ]
    },
    {
      "cell_type": "markdown",
      "metadata": {
        "id": "dXa-sqj8G4us"
      },
      "source": [
        "## Create pairs of images\n",
        "\n",
        "We will train the model to differentiate between digits of different classes. For\n",
        "example, digit `0` needs to be differentiated from the rest of the\n",
        "digits (`1` through `9`), digit `1` - from `0` and `2` through `9`, and so on.\n",
        "To carry this out, we will select N random images from class A (for example,\n",
        "for digit `0`) and pair them with N random images from another class B\n",
        "(for example, for digit `1`). Then, we can repeat this process for all classes\n",
        "of digits (until digit `9`). Once we have paired digit `0` with other digits,\n",
        "we can repeat this process for the remaining classes for the rest of the digits\n",
        "(from `1` until `9`)."
      ]
    },
    {
      "cell_type": "code",
      "execution_count": 11,
      "metadata": {
        "id": "hAT2oa9_G4us"
      },
      "outputs": [],
      "source": [
        "\n",
        "def make_pairs(x, y):\n",
        "    \"\"\"Creates a tuple containing image pairs with corresponding label.\n",
        "\n",
        "    Arguments:\n",
        "        x: List containing images, each index in this list corresponds to one image.\n",
        "        y: List containing labels, each label with datatype of `int`.\n",
        "\n",
        "    Returns:\n",
        "        Tuple containing two numpy arrays as (pairs_of_samples, labels),\n",
        "        where pairs_of_samples' shape is (2len(x), 2,n_features_dims) and\n",
        "        labels are a binary array of shape (2len(x)).\n",
        "    \"\"\"\n",
        "\n",
        "    num_classes = max(y) + 1\n",
        "    digit_indices = [np.where(y == i)[0] for i in range(num_classes)]\n",
        "\n",
        "    pairs = []\n",
        "    labels = []\n",
        "\n",
        "    for idx1 in range(len(x)):\n",
        "        # add a matching example\n",
        "        x1 = x[idx1]\n",
        "        label1 = y[idx1]\n",
        "        idx2 = random.choice(digit_indices[label1])\n",
        "        x2 = x[idx2]\n",
        "\n",
        "        pairs += [[x1, x2]]\n",
        "        labels += [0]\n",
        "\n",
        "        # add a non-matching example\n",
        "        label2 = random.randint(0, num_classes - 1)\n",
        "        while label2 == label1:\n",
        "            label2 = random.randint(0, num_classes - 1)\n",
        "\n",
        "        idx2 = random.choice(digit_indices[label2])\n",
        "        x2 = x[idx2]\n",
        "\n",
        "        pairs += [[x1, x2]]\n",
        "        labels += [1]\n",
        "\n",
        "    return np.array(pairs), np.array(labels).astype(\"float32\")\n",
        "\n",
        "\n",
        "# make train pairs\n",
        "pairs_train, labels_train = make_pairs(x_train, y_train)\n",
        "\n",
        "# make validation pairs\n",
        "pairs_val, labels_val = make_pairs(x_val, y_val)\n",
        "\n",
        "# make test pairs\n",
        "pairs_test, labels_test = make_pairs(x_test, y_test)"
      ]
    },
    {
      "cell_type": "markdown",
      "metadata": {
        "id": "tPcSFFJcG4us"
      },
      "source": [
        "We get:\n",
        "\n",
        "**pairs_train.shape = (60000, 2, 28, 28)**\n",
        "\n",
        "- We have 60,000 pairs\n",
        "- Each pair contains 2 images\n",
        "- Each image has shape `(28, 28)`"
      ]
    },
    {
      "cell_type": "markdown",
      "metadata": {
        "id": "y0KnS9CXG4ut"
      },
      "source": [
        "Split the training pairs"
      ]
    },
    {
      "cell_type": "code",
      "execution_count": 12,
      "metadata": {
        "id": "AnqUvZOFG4ut"
      },
      "outputs": [],
      "source": [
        "x_train_1 = pairs_train[:, 0]  # x_train_1.shape is (60000, 28, 28)\n",
        "x_train_2 = pairs_train[:, 1]"
      ]
    },
    {
      "cell_type": "markdown",
      "metadata": {
        "id": "E3-ngxGoG4ut"
      },
      "source": [
        "Split the validation pairs"
      ]
    },
    {
      "cell_type": "code",
      "execution_count": 13,
      "metadata": {
        "id": "uFPTawDqG4ut"
      },
      "outputs": [],
      "source": [
        "x_val_1 = pairs_val[:, 0]  # x_val_1.shape = (60000, 28, 28)\n",
        "x_val_2 = pairs_val[:, 1]"
      ]
    },
    {
      "cell_type": "markdown",
      "metadata": {
        "id": "Nu-_O2QkG4ut"
      },
      "source": [
        "Split the test pairs"
      ]
    },
    {
      "cell_type": "code",
      "execution_count": 14,
      "metadata": {
        "id": "k5QjM1rRG4ut"
      },
      "outputs": [],
      "source": [
        "x_test_1 = pairs_test[:, 0]  # x_test_1.shape = (20000, 28, 28)\n",
        "x_test_2 = pairs_test[:, 1]\n"
      ]
    },
    {
      "cell_type": "markdown",
      "metadata": {
        "id": "j73qspLJG4ut"
      },
      "source": [
        "## Visualize pairs and their labels"
      ]
    },
    {
      "cell_type": "code",
      "execution_count": 15,
      "metadata": {
        "id": "wnThJqPVG4ut"
      },
      "outputs": [],
      "source": [
        "\n",
        "def visualize(pairs, labels, to_show=6, num_col=3, predictions=None, test=False):\n",
        "    \"\"\"Creates a plot of pairs and labels, and prediction if it's test dataset.\n",
        "\n",
        "    Arguments:\n",
        "        pairs: Numpy Array, of pairs to visualize, having shape\n",
        "               (Number of pairs, 2, 28, 28).\n",
        "        to_show: Int, number of examples to visualize (default is 6)\n",
        "                `to_show` must be an integral multiple of `num_col`.\n",
        "                 Otherwise it will be trimmed if it is greater than num_col,\n",
        "                 and incremented if if it is less then num_col.\n",
        "        num_col: Int, number of images in one row - (default is 3)\n",
        "                 For test and train respectively, it should not exceed 3 and 7.\n",
        "        predictions: Numpy Array of predictions with shape (to_show, 1) -\n",
        "                     (default is None)\n",
        "                     Must be passed when test=True.\n",
        "        test: Boolean telling whether the dataset being visualized is\n",
        "              train dataset or test dataset - (default False).\n",
        "\n",
        "    Returns:\n",
        "        None.\n",
        "    \"\"\"\n",
        "\n",
        "    # Define num_row\n",
        "    # If to_show % num_col != 0\n",
        "    #    trim to_show,\n",
        "    #       to trim to_show limit num_row to the point where\n",
        "    #       to_show % num_col == 0\n",
        "    #\n",
        "    # If to_show//num_col == 0\n",
        "    #    then it means num_col is greater then to_show\n",
        "    #    increment to_show\n",
        "    #       to increment to_show set num_row to 1\n",
        "    num_row = to_show // num_col if to_show // num_col != 0 else 1\n",
        "\n",
        "    # `to_show` must be an integral multiple of `num_col`\n",
        "    #  we found num_row and we have num_col\n",
        "    #  to increment or decrement to_show\n",
        "    #  to make it integral multiple of `num_col`\n",
        "    #  simply set it equal to num_row * num_col\n",
        "    to_show = num_row * num_col\n",
        "\n",
        "    # Plot the images\n",
        "    fig, axes = plt.subplots(num_row, num_col, figsize=(5, 5))\n",
        "    for i in range(to_show):\n",
        "\n",
        "        # If the number of rows is 1, the axes array is one-dimensional\n",
        "        if num_row == 1:\n",
        "            ax = axes[i % num_col]\n",
        "        else:\n",
        "            ax = axes[i // num_col, i % num_col]\n",
        "\n",
        "        ax.imshow(tf.concat([pairs[i][0], pairs[i][1]], axis=1), cmap=\"gray\")\n",
        "        ax.set_axis_off()\n",
        "        if test:\n",
        "            ax.set_title(\"True: {} | Pred: {:.5f}\".format(labels[i], predictions[i][0]))\n",
        "        else:\n",
        "            ax.set_title(\"Label: {}\".format(labels[i]))\n",
        "    if test:\n",
        "        plt.tight_layout(rect=(0, 0, 1.9, 1.9), w_pad=0.0)\n",
        "    else:\n",
        "        plt.tight_layout(rect=(0, 0, 1.5, 1.5))\n",
        "    plt.show()\n"
      ]
    },
    {
      "cell_type": "markdown",
      "metadata": {
        "id": "aGxW0IGpG4ut"
      },
      "source": [
        "Inspect training pairs"
      ]
    },
    {
      "cell_type": "code",
      "execution_count": 16,
      "metadata": {
        "colab": {
          "base_uri": "https://localhost:8080/",
          "height": 143
        },
        "id": "ZGeN0FdLG4ut",
        "outputId": "6d099118-3c86-46a4-cb79-72fe572a384c"
      },
      "outputs": [
        {
          "data": {
            "image/png": "[encoded data removed]",
            "text/plain": [
              "<Figure size 500x500 with 4 Axes>"
            ]
          },
          "metadata": {},
          "output_type": "display_data"
        }
      ],
      "source": [
        "visualize(pairs_train[:-1], labels_train[:-1], to_show=4, num_col=4)"
      ]
    },
    {
      "cell_type": "markdown",
      "metadata": {
        "id": "nx5WDWeLG4ut"
      },
      "source": [
        "Inspect validation pairs"
      ]
    },
    {
      "cell_type": "code",
      "execution_count": 17,
      "metadata": {
        "colab": {
          "base_uri": "https://localhost:8080/",
          "height": 143
        },
        "id": "7rP4Dct2G4ut",
        "outputId": "50e0661c-cbd8-45e2-947c-7010948dfff6"
      },
      "outputs": [
        {
          "data": {
            "image/png": "[encoded data removed]",
            "text/plain": [
              "<Figure size 500x500 with 4 Axes>"
            ]
          },
          "metadata": {},
          "output_type": "display_data"
        }
      ],
      "source": [
        "visualize(pairs_val[:-1], labels_val[:-1], to_show=4, num_col=4)"
      ]
    },
    {
      "cell_type": "markdown",
      "metadata": {
        "id": "0bNUBu4OG4ut"
      },
      "source": [
        "Inspect test pairs"
      ]
    },
    {
      "cell_type": "code",
      "execution_count": 18,
      "metadata": {
        "colab": {
          "base_uri": "https://localhost:8080/",
          "height": 143
        },
        "id": "MLIIXbZtG4ut",
        "outputId": "0b4808e1-af4a-4406-c2b1-61c4efaf382d"
      },
      "outputs": [
        {
          "data": {
            "image/png": "[encoded data removed]",
            "text/plain": [
              "<Figure size 500x500 with 4 Axes>"
            ]
          },
          "metadata": {},
          "output_type": "display_data"
        }
      ],
      "source": [
        "visualize(pairs_test[:-1], labels_test[:-1], to_show=4, num_col=4)"
      ]
    },
    {
      "cell_type": "markdown",
      "metadata": {
        "id": "hlxiWm_NG4ut"
      },
      "source": [
        "## Define the model\n",
        "\n",
        "There are two input layers, each leading to its own network, which\n",
        "produces embeddings. A `Lambda` layer then merges them using an\n",
        "[Euclidean distance](https://en.wikipedia.org/wiki/Euclidean_distance) and the\n",
        "merged output is fed to the final network."
      ]
    },
    {
      "cell_type": "code",
      "execution_count": 19,
      "metadata": {
        "id": "x8LQ669jG4ut"
      },
      "outputs": [],
      "source": [
        "# Provided two tensors t1 and t2\n",
        "# Euclidean distance = sqrt(sum(square(t1-t2)))\n",
        "def euclidean_distance(vects):\n",
        "    \"\"\"Find the Euclidean distance between two vectors.\n",
        "\n",
        "    Arguments:\n",
        "        vects: List containing two tensors of same length.\n",
        "\n",
        "    Returns:\n",
        "        Tensor containing euclidean distance\n",
        "        (as floating point value) between vectors.\n",
        "    \"\"\"\n",
        "\n",
        "    x, y = vects\n",
        "    sum_square = tf.math.reduce_sum(tf.math.square(x - y), axis=1, keepdims=True)\n",
        "    return tf.math.sqrt(tf.math.maximum(sum_square, tf.keras.backend.epsilon()))\n",
        "\n",
        "\n",
        "input = layers.Input((28, 28, 1))\n",
        "x = tf.keras.layers.BatchNormalization()(input)\n",
        "x = layers.Conv2D(4, (5, 5), activation=\"tanh\")(x)\n",
        "x = layers.AveragePooling2D(pool_size=(2, 2))(x)\n",
        "x = layers.Conv2D(16, (5, 5), activation=\"tanh\")(x)\n",
        "x = layers.AveragePooling2D(pool_size=(2, 2))(x)\n",
        "x = layers.Flatten()(x)\n",
        "\n",
        "x = tf.keras.layers.BatchNormalization()(x)\n",
        "x = layers.Dense(10, activation=\"tanh\")(x)\n",
        "embedding_network = keras.Model(input, x)\n",
        "\n",
        "\n",
        "input_1 = layers.Input((28, 28, 1))\n",
        "input_2 = layers.Input((28, 28, 1))\n",
        "\n",
        "# As mentioned above, Siamese Network share weights between\n",
        "# tower networks (sister networks). To allow this, we will use\n",
        "# same embedding network for both tower networks.\n",
        "tower_1 = embedding_network(input_1)\n",
        "tower_2 = embedding_network(input_2)\n",
        "\n",
        "merge_layer = layers.Lambda(euclidean_distance)([tower_1, tower_2])\n",
        "normal_layer = tf.keras.layers.BatchNormalization()(merge_layer)\n",
        "output_layer = layers.Dense(1, activation=\"sigmoid\")(normal_layer)\n",
        "siamese = keras.Model(inputs=[input_1, input_2], outputs=output_layer)\n"
      ]
    },
    {
      "cell_type": "markdown",
      "metadata": {
        "id": "RXC8eVaEG4ut"
      },
      "source": [
        "## Define the contrastive Loss"
      ]
    },
    {
      "cell_type": "code",
      "execution_count": 20,
      "metadata": {
        "id": "OE-pCI5GG4ut"
      },
      "outputs": [],
      "source": [
        "\n",
        "def loss(margin=1):\n",
        "    \"\"\"Provides 'contrastive_loss' an enclosing scope with variable 'margin'.\n",
        "\n",
        "    Arguments:\n",
        "        margin: Integer, defines the baseline for distance for which pairs\n",
        "                should be classified as dissimilar. - (default is 1).\n",
        "\n",
        "    Returns:\n",
        "        'contrastive_loss' function with data ('margin') attached.\n",
        "    \"\"\"\n",
        "\n",
        "    # Contrastive loss = mean( (1-true_value) * square(prediction) +\n",
        "    #                         true_value * square( max(margin-prediction, 0) ))\n",
        "    def contrastive_loss(y_true, y_pred):\n",
        "        \"\"\"Calculates the contrastive loss.\n",
        "\n",
        "        Arguments:\n",
        "            y_true: List of labels, each label is of type float32.\n",
        "            y_pred: List of predictions of same length as of y_true,\n",
        "                    each label is of type float32.\n",
        "\n",
        "        Returns:\n",
        "            A tensor containing contrastive loss as floating point value.\n",
        "        \"\"\"\n",
        "\n",
        "        square_pred = tf.math.square(y_pred)\n",
        "        margin_square = tf.math.square(tf.math.maximum(margin - (y_pred), 0))\n",
        "        return tf.math.reduce_mean(\n",
        "            (1 - y_true) * square_pred + (y_true) * margin_square\n",
        "        )\n",
        "\n",
        "    return contrastive_loss\n"
      ]
    },
    {
      "cell_type": "markdown",
      "metadata": {
        "id": "I_BdApfQG4ut"
      },
      "source": [
        "## Compile the model with the contrastive loss"
      ]
    },
    {
      "cell_type": "code",
      "execution_count": 21,
      "metadata": {
        "colab": {
          "base_uri": "https://localhost:8080/"
        },
        "id": "pHcj3A6vG4ut",
        "outputId": "0090c31e-5336-439c-b413-e09fe226e8d7"
      },
      "outputs": [
        {
          "name": "stdout",
          "output_type": "stream",
          "text": [
            "Model: \"model_1\"\n",
            "__________________________________________________________________________________________________\n",
            " Layer (type)                Output Shape                 Param #   Connected to                  \n",
            "==================================================================================================\n",
            " input_2 (InputLayer)        [(None, 28, 28, 1)]          0         []                            \n",
            "                                                                                                  \n",
            " input_3 (InputLayer)        [(None, 28, 28, 1)]          0         []                            \n",
            "                                                                                                  \n",
            " model (Functional)          (None, 10)                   5318      ['input_2[0][0]',             \n",
            "                                                                     'input_3[0][0]']             \n",
            "                                                                                                  \n",
            " lambda (Lambda)             (None, 1)                    0         ['model[0][0]',               \n",
            "                                                                     'model[1][0]']               \n",
            "                                                                                                  \n",
            " batch_normalization_2 (Bat  (None, 1)                    4         ['lambda[0][0]']              \n",
            " chNormalization)                                                                                 \n",
            "                                                                                                  \n",
            " dense_1 (Dense)             (None, 1)                    2         ['batch_normalization_2[0][0]'\n",
            "                                                                    ]                             \n",
            "                                                                                                  \n",
            "==================================================================================================\n",
            "Total params: 5324 (20.80 KB)\n",
            "Trainable params: 4808 (18.78 KB)\n",
            "Non-trainable params: 516 (2.02 KB)\n",
            "__________________________________________________________________________________________________\n"
          ]
        }
      ],
      "source": [
        "siamese.compile(loss=loss(margin=margin), optimizer=\"RMSprop\", metrics=[\"accuracy\"])\n",
        "siamese.summary()\n"
      ]
    },
    {
      "cell_type": "markdown",
      "metadata": {
        "id": "i_HTtGNzG4uu"
      },
      "source": [
        "## Train the model"
      ]
    },
    {
      "cell_type": "code",
      "execution_count": 22,
      "metadata": {
        "colab": {
          "base_uri": "https://localhost:8080/"
        },
        "id": "GZuK0s8LG4uu",
        "outputId": "6fb99f1b-d0be-4022-d99c-82dfd6b454ff"
      },
      "outputs": [
        {
          "name": "stdout",
          "output_type": "stream",
          "text": [
            "Epoch 1/10\n",
            "3750/3750 [==============================] - 18s 5ms/step - loss: 0.0881 - accuracy: 0.8803 - val_loss: 0.0334 - val_accuracy: 0.9561\n",
            "Epoch 2/10\n",
            "3750/3750 [==============================] - 19s 5ms/step - loss: 0.0497 - accuracy: 0.9351 - val_loss: 0.0281 - val_accuracy: 0.9625\n",
            "Epoch 3/10\n",
            "3750/3750 [==============================] - 20s 5ms/step - loss: 0.0415 - accuracy: 0.9453 - val_loss: 0.0252 - val_accuracy: 0.9675\n",
            "Epoch 4/10\n",
            "3750/3750 [==============================] - 22s 6ms/step - loss: 0.0361 - accuracy: 0.9531 - val_loss: 0.0178 - val_accuracy: 0.9771\n",
            "Epoch 5/10\n",
            "3750/3750 [==============================] - 22s 6ms/step - loss: 0.0329 - accuracy: 0.9570 - val_loss: 0.0210 - val_accuracy: 0.9729\n",
            "Epoch 6/10\n",
            "3750/3750 [==============================] - 22s 6ms/step - loss: 0.0306 - accuracy: 0.9599 - val_loss: 0.0172 - val_accuracy: 0.9780\n",
            "Epoch 7/10\n",
            "3750/3750 [==============================] - 23s 6ms/step - loss: 0.0302 - accuracy: 0.9607 - val_loss: 0.0156 - val_accuracy: 0.9796\n",
            "Epoch 8/10\n",
            "3750/3750 [==============================] - 24s 7ms/step - loss: 0.0290 - accuracy: 0.9621 - val_loss: 0.0176 - val_accuracy: 0.9779\n",
            "Epoch 9/10\n",
            "3750/3750 [==============================] - 24s 6ms/step - loss: 0.0276 - accuracy: 0.9638 - val_loss: 0.0154 - val_accuracy: 0.9798\n",
            "Epoch 10/10\n",
            "3750/3750 [==============================] - 23s 6ms/step - loss: 0.0275 - accuracy: 0.9641 - val_loss: 0.0144 - val_accuracy: 0.9817\n"
          ]
        }
      ],
      "source": [
        "history = siamese.fit(\n",
        "    [x_train_1, x_train_2],\n",
        "    labels_train,\n",
        "    validation_data=([x_val_1, x_val_2], labels_val),\n",
        "    batch_size=batch_size,\n",
        "    epochs=epochs,\n",
        ")"
      ]
    },
    {
      "cell_type": "markdown",
      "metadata": {
        "id": "3YWUvrlpG4uu"
      },
      "source": [
        "## Visualize results"
      ]
    },
    {
      "cell_type": "code",
      "execution_count": 23,
      "metadata": {
        "colab": {
          "base_uri": "https://localhost:8080/",
          "height": 927
        },
        "id": "T0KJn-2hG4uu",
        "outputId": "4a5432ab-69d8-4114-9d01-c4daa897e883"
      },
      "outputs": [
        {
          "data": {
            "image/png": "[encoded data removed]",
            "text/plain": [
              "<Figure size 640x480 with 1 Axes>"
            ]
          },
          "metadata": {},
          "output_type": "display_data"
        },
        {
          "data": {
            "image/png": "[encoded data removed]",
            "text/plain": [
              "<Figure size 640x480 with 1 Axes>"
            ]
          },
          "metadata": {},
          "output_type": "display_data"
        }
      ],
      "source": [
        "\n",
        "def plt_metric(history, metric, title, has_valid=True):\n",
        "    \"\"\"Plots the given 'metric' from 'history'.\n",
        "\n",
        "    Arguments:\n",
        "        history: history attribute of History object returned from Model.fit.\n",
        "        metric: Metric to plot, a string value present as key in 'history'.\n",
        "        title: A string to be used as title of plot.\n",
        "        has_valid: Boolean, true if valid data was passed to Model.fit else false.\n",
        "\n",
        "    Returns:\n",
        "        None.\n",
        "    \"\"\"\n",
        "    plt.plot(history[metric])\n",
        "    if has_valid:\n",
        "        plt.plot(history[\"val_\" + metric])\n",
        "        plt.legend([\"train\", \"validation\"], loc=\"upper left\")\n",
        "    plt.title(title)\n",
        "    plt.ylabel(metric)\n",
        "    plt.xlabel(\"epoch\")\n",
        "    plt.show()\n",
        "\n",
        "\n",
        "# Plot the accuracy\n",
        "plt_metric(history=history.history, metric=\"accuracy\", title=\"Model accuracy\")\n",
        "\n",
        "# Plot the contrastive loss\n",
        "plt_metric(history=history.history, metric=\"loss\", title=\"Contrastive Loss\")"
      ]
    },
    {
      "cell_type": "markdown",
      "metadata": {
        "id": "Ru1c0FeZG4uu"
      },
      "source": [
        "## Evaluate the model"
      ]
    },
    {
      "cell_type": "code",
      "execution_count": 24,
      "metadata": {
        "colab": {
          "base_uri": "https://localhost:8080/"
        },
        "id": "t2BCZD9BG4uu",
        "outputId": "94c2a4ca-407b-46d3-b6e2-b2acc16a89e3"
      },
      "outputs": [
        {
          "name": "stdout",
          "output_type": "stream",
          "text": [
            "625/625 [==============================] - 1s 2ms/step - loss: 0.0124 - accuracy: 0.9832\n",
            "test loss, test acc: [0.012363751418888569, 0.9832000136375427]\n"
          ]
        }
      ],
      "source": [
        "results = siamese.evaluate([x_test_1, x_test_2], labels_test)\n",
        "print(\"test loss, test acc:\", results)"
      ]
    },
    {
      "cell_type": "markdown",
      "metadata": {
        "id": "436m5ydlG4u0"
      },
      "source": [
        "## Visualize the predictions"
      ]
    },
    {
      "cell_type": "code",
      "execution_count": 25,
      "metadata": {
        "colab": {
          "base_uri": "https://localhost:8080/",
          "height": 224
        },
        "id": "WApeSPp5G4u0",
        "outputId": "342c60c5-c86d-45f7-ca55-317e9fec574f"
      },
      "outputs": [
        {
          "name": "stdout",
          "output_type": "stream",
          "text": [
            "625/625 [==============================] - 1s 2ms/step\n"
          ]
        },
        {
          "data": {
            "image/png": "[encoded data removed]",
            "text/plain": [
              "<Figure size 500x500 with 3 Axes>"
            ]
          },
          "metadata": {},
          "output_type": "display_data"
        }
      ],
      "source": [
        "predictions = siamese.predict([x_test_1, x_test_2])\n",
        "visualize(pairs_test, labels_test, to_show=3, predictions=predictions, test=True)"
      ]
    },
    {
      "cell_type": "markdown",
      "metadata": {
        "id": "Sf1jZwRVG4u0"
      },
      "source": [
        "**Example available on HuggingFace**\n",
        "| Trained Model | Demo |\n",
        "| :--: | :--: |\n",
        "| [![Generic badge](https://img.shields.io/badge/%F0%9F%A4%97%20Model-Siamese%20Network-black.svg)](https://huggingface.co/keras-io/siamese-contrastive) | [![Generic badge](https://img.shields.io/badge/%F0%9F%A4%97%20Spaces-Siamese%20Network-black.svg)](https://huggingface.co/spaces/keras-io/siamese-contrastive) |"
      ]
    },
    {
      "cell_type": "code",
      "execution_count": null,
      "metadata": {
        "id": "y7r-l0YSOoNV"
      },
      "outputs": [],
      "source": []
    }
  ],
  "metadata": {
    "colab": {
      "name": "siamese_contrastive",
      "provenance": []
    },
    "kernelspec": {
      "display_name": "Python 3",
      "name": "python3"
    },
    "language_info": {
      "codemirror_mode": {
        "name": "ipython",
        "version": 3
      },
      "file_extension": ".py",
      "mimetype": "text/x-python",
      "name": "python",
      "nbconvert_exporter": "python",
      "pygments_lexer": "ipython3",
      "version": "3.9.6"
    }
  },
  "nbformat": 4,
  "nbformat_minor": 0
}
